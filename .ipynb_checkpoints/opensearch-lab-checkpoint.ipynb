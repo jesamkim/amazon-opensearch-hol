{
 "cells": [
  {
   "cell_type": "markdown",
   "id": "166899ca-5313-4c19-9fd4-2320a18ae8f4",
   "metadata": {},
   "source": [
    "# Amazon OpenSearch hands-on lab\n",
    "\n",
    "#### Original Workshop : https://catalog.us-east-1.prod.workshops.aws/workshops/f0213896-4dd9-494a-89c5-f7886b45ed4a/ko-KR"
   ]
  },
  {
   "cell_type": "markdown",
   "id": "13175714-4a6c-4576-b7ec-0c6427af474a",
   "metadata": {},
   "source": [
    "### 0. Setup Environment"
   ]
  },
  {
   "cell_type": "code",
   "execution_count": 2,
   "id": "6523e89b-cadb-4cb2-8d9b-ecab355a6c9d",
   "metadata": {
    "tags": []
   },
   "outputs": [],
   "source": [
    "#!pip install boto3"
   ]
  },
  {
   "cell_type": "code",
   "execution_count": 3,
   "id": "987e03c7-c289-4a05-8d5c-92332c053d2f",
   "metadata": {
    "tags": []
   },
   "outputs": [],
   "source": [
    "import boto3"
   ]
  },
  {
   "cell_type": "markdown",
   "id": "4a391618-a39e-441b-b42c-6b254786900a",
   "metadata": {},
   "source": [
    "### 1. OpenSearch 도메인 생성"
   ]
  },
  {
   "cell_type": "code",
   "execution_count": 4,
   "id": "fc57fea0-3e08-449c-94e0-de0e19a823bb",
   "metadata": {
    "tags": []
   },
   "outputs": [],
   "source": [
    "import boto3\n",
    "import time\n",
    "\n",
    "def create_opensearch_domain(domain_name):\n",
    "    client = boto3.client('opensearch')\n",
    "\n",
    "    response = client.create_domain(\n",
    "        DomainName=domain_name,\n",
    "        EngineVersion='OpenSearch_1.3',\n",
    "        ClusterConfig={\n",
    "            'InstanceType': 'r6g.large.search',\n",
    "            'InstanceCount': 2,\n",
    "            'DedicatedMasterEnabled': False,\n",
    "            'ZoneAwarenessEnabled': False,\n",
    "        },\n",
    "        EBSOptions={\n",
    "            'EBSEnabled': True,\n",
    "            'VolumeType': 'gp3',\n",
    "            'VolumeSize': 100,\n",
    "        },\n",
    "        DomainEndpointOptions={\n",
    "            'EnforceHTTPS': True,\n",
    "            'TLSSecurityPolicy': 'Policy-Min-TLS-1-2-2019-07',\n",
    "        },\n",
    "        NodeToNodeEncryptionOptions={\n",
    "            'Enabled': True,\n",
    "        },\n",
    "        EncryptionAtRestOptions={\n",
    "            'Enabled': True,\n",
    "        },\n",
    "        AdvancedSecurityOptions={\n",
    "            'Enabled': True,\n",
    "            'InternalUserDatabaseEnabled': True,\n",
    "            'MasterUserOptions': {\n",
    "                'MasterUserName': 'admin',\n",
    "                'MasterUserPassword': 'Passw0rd!'\n",
    "            }\n",
    "        },\n",
    "    )\n",
    "\n",
    "    print(response)\n",
    "\n",
    "    endpoint_url = wait_for_domain_creation(client, domain_name)\n",
    "\n",
    "    return endpoint_url\n",
    "\n",
    "\n",
    "def wait_for_domain_creation(client, domain_name, wait_period=60, retries=30):\n",
    "    \"\"\"\n",
    "    OpenSearch 도메인이 활성화될 때까지 기다린 후 도메인 엔드포인트 URL 반환\n",
    "\n",
    "    :param client: boto3 OpenSearch client\n",
    "    :param domain_name: OpenSearch 도메인 이름\n",
    "    :param wait_period: 각 시도 사이에 대기할 시간 (초)\n",
    "    :param retries: 최대 시도 횟수\n",
    "    :return: 도메인 엔드포인트 URL\n",
    "    \"\"\"\n",
    "    for _ in range(retries):\n",
    "        describe_response = client.describe_domain(DomainName=domain_name)\n",
    "        if 'Endpoint' in describe_response['DomainStatus']:\n",
    "            return describe_response['DomainStatus']['Endpoint']\n",
    "        time.sleep(wait_period)\n",
    "    raise Exception(\"Domain creation timeout\")"
   ]
  },
  {
   "cell_type": "code",
   "execution_count": 6,
   "id": "78f9f113-3b67-4e83-9982-08046e3c899a",
   "metadata": {
    "tags": []
   },
   "outputs": [
    {
     "name": "stdout",
     "output_type": "stream",
     "text": [
      "{'ResponseMetadata': {'RequestId': '161af059-36e1-4d3e-ae7d-90b140f5d4e7', 'HTTPStatusCode': 200, 'HTTPHeaders': {'x-amzn-requestid': '161af059-36e1-4d3e-ae7d-90b140f5d4e7', 'content-type': 'application/json', 'content-length': '2293', 'date': 'Mon, 12 Jun 2023 07:23:55 GMT'}, 'RetryAttempts': 0}, 'DomainStatus': {'DomainId': '376278017302/my-opensearch-domain1', 'DomainName': 'my-opensearch-domain1', 'ARN': 'arn:aws:es:us-east-1:376278017302:domain/my-opensearch-domain1', 'Created': True, 'Deleted': False, 'Processing': True, 'UpgradeProcessing': False, 'EngineVersion': 'OpenSearch_1.3', 'ClusterConfig': {'InstanceType': 'r6g.large.search', 'InstanceCount': 2, 'DedicatedMasterEnabled': False, 'ZoneAwarenessEnabled': False, 'WarmEnabled': False, 'ColdStorageOptions': {'Enabled': False}}, 'EBSOptions': {'EBSEnabled': True, 'VolumeType': 'gp3', 'VolumeSize': 100, 'Iops': 3000, 'Throughput': 125}, 'AccessPolicies': '', 'SnapshotOptions': {'AutomatedSnapshotStartHour': 0}, 'CognitoOptions': {'Enabled': False}, 'EncryptionAtRestOptions': {'Enabled': True, 'KmsKeyId': 'arn:aws:kms:us-east-1:376278017302:key/8ae12dab-5a3b-4a24-8390-542d2be0a12f'}, 'NodeToNodeEncryptionOptions': {'Enabled': True}, 'AdvancedOptions': {'override_main_response_version': 'false', 'rest.action.multi.allow_explicit_index': 'true'}, 'ServiceSoftwareOptions': {'CurrentVersion': '', 'NewVersion': '', 'UpdateAvailable': False, 'Cancellable': False, 'UpdateStatus': 'COMPLETED', 'Description': 'There is no software update available for this domain.', 'AutomatedUpdateDate': datetime.datetime(1970, 1, 1, 0, 0, tzinfo=tzlocal()), 'OptionalDeployment': True}, 'DomainEndpointOptions': {'EnforceHTTPS': True, 'TLSSecurityPolicy': 'Policy-Min-TLS-1-2-2019-07', 'CustomEndpointEnabled': False}, 'AdvancedSecurityOptions': {'Enabled': True, 'InternalUserDatabaseEnabled': True, 'AnonymousAuthEnabled': False}, 'AutoTuneOptions': {'State': 'ENABLE_IN_PROGRESS'}, 'ChangeProgressDetails': {'ChangeId': 'faef2e0f-4176-4fd8-ba5c-013eb478a70f'}}}\n",
      "search-my-opensearch-domain1-kyhpsddyrjcn7xzzmeztay3wku.us-east-1.es.amazonaws.com\n"
     ]
    }
   ],
   "source": [
    "# OpenSearch 도메인 생성 (약 15분 소요)\n",
    "\n",
    "domain_name = 'my-opensearch-domain1'\n",
    "endpoint_url = create_opensearch_domain(domain_name)\n",
    "\n",
    "print(\"ENDPOINT URL : \", endpoint_url)"
   ]
  },
  {
   "cell_type": "markdown",
   "id": "9a18e1d2-932e-4b9b-93de-1db19b5d6bbb",
   "metadata": {},
   "source": [
    "### 2. 도메인 보안 설정 업데이트 (AWS Console에서 작업)"
   ]
  },
  {
   "cell_type": "markdown",
   "id": "76f4354a-7b60-4747-86ae-5e4b6918766f",
   "metadata": {},
   "source": [
    "<b>생성한 도메인 보안 설정을 수정합니다.</b><br>\n",
    "새로운 탭에서 [Amazon OpenSearch 콘솔](https://us-east-1.console.aws.amazon.com/aos/home?#opensearch/domains)을 엽니다.<br>"
   ]
  },
  {
   "cell_type": "markdown",
   "id": "42f7a2ab-3396-4d9c-8a8c-09501704ed07",
   "metadata": {},
   "source": [
    "생성된 도메인의 이름을 선택 합니다.<br>\n",
    "![](./img/os-edit-security-config1.png)"
   ]
  },
  {
   "cell_type": "markdown",
   "id": "1f2e9634-bac0-4fc7-87fd-fb334a401c2f",
   "metadata": {},
   "source": [
    "화면 우측 상단의 <b>Actions</b>에서 Edit security configuration을 선택 합니다.<br>\n",
    "![](./img/os-edit-security-config2.png)"
   ]
  },
  {
   "cell_type": "markdown",
   "id": "01a080fe-ecc2-414f-902b-045cde5fb50b",
   "metadata": {},
   "source": [
    "<b>Access Policy</b>에서 Domain access policy 부분에서 <b>Only use fine-grained access control</b>을 선택한 뒤, 페이지 맨 하단의 <b>Save Changes</b>를 클릭 합니다.\n",
    "![](./img/os-edit-security-config3.png)"
   ]
  },
  {
   "cell_type": "code",
   "execution_count": null,
   "id": "57670ebe-e444-42bc-bdee-68fb6f0fb22c",
   "metadata": {},
   "outputs": [],
   "source": []
  }
 ],
 "metadata": {
  "instance_type": "ml.t3.medium",
  "kernelspec": {
   "display_name": "Python 3 (Data Science)",
   "language": "python",
   "name": "python3__SAGEMAKER_INTERNAL__arn:aws:sagemaker:us-east-1:081325390199:image/datascience-1.0"
  },
  "language_info": {
   "codemirror_mode": {
    "name": "ipython",
    "version": 3
   },
   "file_extension": ".py",
   "mimetype": "text/x-python",
   "name": "python",
   "nbconvert_exporter": "python",
   "pygments_lexer": "ipython3",
   "version": "3.7.10"
  }
 },
 "nbformat": 4,
 "nbformat_minor": 5
}
